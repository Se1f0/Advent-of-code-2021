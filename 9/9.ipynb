{
 "cells": [
  {
   "cell_type": "code",
   "execution_count": 46,
   "metadata": {},
   "outputs": [],
   "source": [
    "import numpy as np\n",
    "import sys\n",
    "np.set_printoptions(threshold=sys.maxsize)"
   ]
  },
  {
   "cell_type": "code",
   "execution_count": 47,
   "metadata": {},
   "outputs": [
    {
     "name": "stdout",
     "output_type": "stream",
     "text": [
      "527\n"
     ]
    }
   ],
   "source": [
    "input = open('input.txt','r')\n",
    "input = input.readlines()\n",
    "input = [r.rstrip() for r in input]\n",
    "heightmap = []\n",
    "for r in input:\n",
    "    row = []\n",
    "    for d in r:\n",
    "        row.append(int(d))\n",
    "    heightmap.append(row)\n",
    "heightmap = np.array(heightmap)\n",
    "# print(heightmap)\n",
    "low_p = []\n",
    "for i in range(len(input)):\n",
    "    for j in range(len(input[0])):\n",
    "        if j == 0:\n",
    "            if i == 0:\n",
    "                if heightmap[i][j] < heightmap[i][j+1] and heightmap[i][j] < heightmap[i+1][j]:\n",
    "                    # print(i,j)\n",
    "                    low_p.append(heightmap[i][j]+1)\n",
    "            if i == len(input)-1:\n",
    "                if heightmap[i][j] < heightmap[i][j+1] and heightmap[i][j] < heightmap[i-1][j]:\n",
    "                    # print(i,j)\n",
    "                    low_p.append(heightmap[i][j]+1)\n",
    "        elif j == len(input[0])-1:\n",
    "            if i == 0:\n",
    "                if heightmap[i][j] < heightmap[i][j-1] and heightmap[i][j] < heightmap[i+1][j]:\n",
    "                    # print(i,j)\n",
    "                    low_p.append(heightmap[i][j]+1)\n",
    "            if i == len(input)-1:\n",
    "                if heightmap[i][j] < heightmap[i][j-1] and heightmap[i][j] < heightmap[i-1][j]:\n",
    "                    # print(i,j)\n",
    "                    low_p.append(heightmap[i][j]+1)\n",
    "        else:\n",
    "            if i == 0:\n",
    "                if heightmap[i][j] < heightmap[i][j-1] and heightmap[i][j] < heightmap[i+1][j] and heightmap[i][j] < heightmap[i][j+1]:\n",
    "                    # print(i,j)\n",
    "                    low_p.append(heightmap[i][j]+1)\n",
    "            elif i == len(input)-1:\n",
    "                if heightmap[i][j] < heightmap[i][j-1] and heightmap[i][j] < heightmap[i-1][j] and heightmap[i][j] < heightmap[i][j+1]:\n",
    "                    # print(i,j)\n",
    "                    low_p.append(heightmap[i][j]+1)\n",
    "            else:\n",
    "                if heightmap[i][j] < heightmap[i][j-1] and heightmap[i][j] < heightmap[i-1][j] and heightmap[i][j] < heightmap[i][j+1] and heightmap[i][j] < heightmap[i+1][j]:\n",
    "                    # print(i,j)\n",
    "                    low_p.append(heightmap[i][j]+1)\n",
    "# print(low_p)\n",
    "total = np.array(low_p).sum()\n",
    "print(total)\n"
   ]
  }
 ],
 "metadata": {
  "interpreter": {
   "hash": "e1fa981093107e5e7682f9a873a43ef246d51140e2359dad358d64b89d32088d"
  },
  "kernelspec": {
   "display_name": "Python 3.9.4 64-bit",
   "language": "python",
   "name": "python3"
  },
  "language_info": {
   "codemirror_mode": {
    "name": "ipython",
    "version": 3
   },
   "file_extension": ".py",
   "mimetype": "text/x-python",
   "name": "python",
   "nbconvert_exporter": "python",
   "pygments_lexer": "ipython3",
   "version": "3.9.4"
  },
  "orig_nbformat": 4
 },
 "nbformat": 4,
 "nbformat_minor": 2
}

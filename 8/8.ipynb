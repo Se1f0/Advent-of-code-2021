{
 "cells": [
  {
   "cell_type": "code",
   "execution_count": 1,
   "metadata": {},
   "outputs": [],
   "source": [
    "import numpy as np"
   ]
  },
  {
   "cell_type": "code",
   "execution_count": 2,
   "metadata": {},
   "outputs": [
    {
     "name": "stdout",
     "output_type": "stream",
     "text": [
      "0\n"
     ]
    }
   ],
   "source": [
    "input = open('input2.txt','r')\n",
    "input = input.readlines()\n",
    "values = []\n",
    "signal = []\n",
    "for i in input:\n",
    "    values.append(i.split('|')[1].rstrip().split(' ')[1:])\n",
    "    signal.append(i.split('|')[0].rstrip().split(' '))\n",
    "values = np.array(values)\n",
    "signal = np.array(signal)\n",
    "values = values.ravel()\n",
    "signal = signal.ravel()\n",
    "\n",
    "count = 0\n",
    "for s in values:\n",
    "    if (len(s) <= 4) or (len(s) == 7):\n",
    "        count += 1\n",
    "print(count)"
   ]
  },
  {
   "cell_type": "code",
   "execution_count": 3,
   "metadata": {},
   "outputs": [],
   "source": [
    "# values = []\n",
    "# signal = []\n",
    "# for i in input:\n",
    "#     values.append(i.split('|')[1].rstrip().split(' ')[1:])\n",
    "#     signal.append(i.split('|')[0].rstrip().split(' '))\n",
    "# values = np.array(values)\n",
    "# signal = np.array(signal)\n",
    "# patterns = []\n",
    "# for s in signal:\n",
    "#     config = {key : \"\" for key in range(10)}\n",
    "#     digit = []\n",
    "#     for i in s:\n",
    "#         if len(i) ==  2:\n",
    "#             config[1] = \"\".join(sorted(i))\n",
    "#         elif len(i) ==  4:\n",
    "#             config[4] = \"\".join(sorted(i))\n",
    "#         elif len(i) ==  3:\n",
    "#             config[7] = \"\".join(sorted(i))\n",
    "#         elif len(i) ==  7:\n",
    "#             config[8] = \"\".join(sorted(i))\n",
    "#     for i in s:\n",
    "#         if len(i) ==  5:\n",
    "#             for c in i:   \n",
    "#                 if (c not in patterns[4]) and (c not in patterns[1]) and (c not in patterns[7]):\n",
    "#                     patterns[2] = i\n",
    "#                     break\n",
    "#                 elif (c not in patterns[4]) and (c not in patterns[7]) and (c not in patterns[1]):\n",
    "#                     patterns[5] = i\n",
    "#                     break\n",
    "#                 else:\n",
    "#                     patterns[3] = i\n",
    "#                     break\n",
    "#         if len(i) ==  6:\n",
    "#             for c in i:\n",
    "#                 if (c not in patterns[1]):\n",
    "#                     patterns[6] = i\n",
    "#                     break\n",
    "#                 if (c not in patterns[1]) and (c not in patterns[4]):\n",
    "#                     patterns[6] = i\n",
    "#                     break\n",
    "\n",
    "#                 elif (c not in patterns[8]):\n",
    "#                     patterns[9] = i\n",
    "#                     break\n",
    "#                 else:\n",
    "#                     patterns[9] = i\n",
    "#                     break\n",
    "\n",
    "\n",
    "# print(config)"
   ]
  }
 ],
 "metadata": {
  "interpreter": {
   "hash": "e1fa981093107e5e7682f9a873a43ef246d51140e2359dad358d64b89d32088d"
  },
  "kernelspec": {
   "display_name": "Python 3.9.4 64-bit",
   "language": "python",
   "name": "python3"
  },
  "language_info": {
   "codemirror_mode": {
    "name": "ipython",
    "version": 3
   },
   "file_extension": ".py",
   "mimetype": "text/x-python",
   "name": "python",
   "nbconvert_exporter": "python",
   "pygments_lexer": "ipython3",
   "version": "3.9.4"
  },
  "orig_nbformat": 4
 },
 "nbformat": 4,
 "nbformat_minor": 2
}

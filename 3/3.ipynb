{
 "cells": [
  {
   "cell_type": "code",
   "execution_count": 2,
   "metadata": {},
   "outputs": [
    {
     "name": "stdout",
     "output_type": "stream",
     "text": [
      "gamma rate = 3004\n",
      "epsilon rate = 1091\n",
      "power consumption = 3277364\n"
     ]
    }
   ],
   "source": [
    "input = open('input.txt','r')\n",
    "lines = input.readlines()\n",
    "n = len(lines[0])-1\n",
    "\n",
    "gamma_rate = \"\"\n",
    "epsilon_rate = \"\"\n",
    "\n",
    "for j in range(n):\n",
    "    temp = \"\"\n",
    "    for i in lines:\n",
    "        temp += str(i[j])\n",
    "    if temp.count('1') > temp.count('0') :\n",
    "        gamma_rate += '1'\n",
    "        epsilon_rate += '0'\n",
    "    else :\n",
    "        gamma_rate += '0'\n",
    "        epsilon_rate += '1'\n",
    "gamma_rate = int(gamma_rate,2)\n",
    "epsilon_rate = int(epsilon_rate,2)\n",
    "print(\"gamma rate = \" + str(gamma_rate))\n",
    "print(\"epsilon rate = \" + str(epsilon_rate))\n",
    "power_consumption = gamma_rate * epsilon_rate\n",
    "print(\"power consumption = \" + str(power_consumption))\n",
    "\n",
    "    \n"
   ]
  },
  {
   "cell_type": "code",
   "execution_count": 4,
   "metadata": {},
   "outputs": [
    {
     "name": "stdout",
     "output_type": "stream",
     "text": [
      "oxygen generator rating = 3583\n",
      "CO2 scrubber rating = 1601\n",
      "the life support rating of the submarine = 5736383\n"
     ]
    }
   ],
   "source": [
    "list1 = lines.copy()\n",
    "list2 = lines.copy()\n",
    "\n",
    "alist = []\n",
    "\n",
    "for j in range(n):\n",
    "    temp = \"\"\n",
    "    for l in list1 :\n",
    "        temp += str(l[j])\n",
    "    \n",
    "    if temp.count('1') >= temp.count('0') :  \n",
    "        for r in list1 :\n",
    "            if r[j] == '1' :\n",
    "                alist.append(r.rstrip())\n",
    "        list1.clear()\n",
    "        list1 = alist.copy()\n",
    "        alist.clear()\n",
    "    else :\n",
    "        for r in list1 :\n",
    "            if r[j] == '0' :\n",
    "                alist.append(r.rstrip())\n",
    "        list1.clear()\n",
    "        list1 = alist.copy()\n",
    "        alist.clear()\n",
    "    if(len(list1) == 1) :\n",
    "        break\n",
    "    \n",
    "for j in range(n):\n",
    "    temp = \"\"\n",
    "    for l in list2 :\n",
    "        temp += str(l[j])\n",
    "    \n",
    "    if temp.count('1') >= temp.count('0') :  \n",
    "        for r in list2 :\n",
    "            if r[j] == '0' :\n",
    "                alist.append(r.rstrip())\n",
    "        list2.clear()\n",
    "        list2 = alist.copy()\n",
    "        alist.clear()\n",
    "    else :\n",
    "        for r in list2 :\n",
    "            if r[j] == '1' :\n",
    "                alist.append(r.rstrip())\n",
    "        list2.clear()\n",
    "        list2 = alist.copy()\n",
    "        alist.clear()\n",
    "    if(len(list2) == 1) :\n",
    "        break\n",
    "ogr = int(list1[0],2)\n",
    "csr = int(list2[0],2)\n",
    "print(\"oxygen generator rating = \" +  str(ogr))\n",
    "print(\"CO2 scrubber rating = \" + str(csr))\n",
    "lsr = ogr * csr\n",
    "print(\"the life support rating of the submarine = \" + str(lsr) )"
   ]
  }
 ],
 "metadata": {
  "interpreter": {
   "hash": "e1fa981093107e5e7682f9a873a43ef246d51140e2359dad358d64b89d32088d"
  },
  "kernelspec": {
   "display_name": "Python 3.9.4 64-bit",
   "language": "python",
   "name": "python3"
  },
  "language_info": {
   "codemirror_mode": {
    "name": "ipython",
    "version": 3
   },
   "file_extension": ".py",
   "mimetype": "text/x-python",
   "name": "python",
   "nbconvert_exporter": "python",
   "pygments_lexer": "ipython3",
   "version": "3.9.4"
  },
  "orig_nbformat": 4
 },
 "nbformat": 4,
 "nbformat_minor": 2
}

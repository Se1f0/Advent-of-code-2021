{
 "cells": [
  {
   "cell_type": "code",
   "execution_count": 90,
   "metadata": {},
   "outputs": [],
   "source": [
    "import math\n",
    "import numpy as np"
   ]
  },
  {
   "cell_type": "code",
   "execution_count": 91,
   "metadata": {},
   "outputs": [
    {
     "name": "stdout",
     "output_type": "stream",
     "text": [
      "336701\n"
     ]
    }
   ],
   "source": [
    "input = open('input.txt','r')\n",
    "hor_pos = input.readline().split(',')\n",
    "hor_pos = [int(i) for i in hor_pos]\n",
    "\n",
    "peak = max(hor_pos)\n",
    "\n",
    "min_fuel = math.inf\n",
    "\n",
    "for i in range(peak):\n",
    "    steps = 0\n",
    "    for j in hor_pos:\n",
    "        steps += abs(i - j)\n",
    "    min_fuel = min(steps,min_fuel)\n",
    "print(min_fuel)"
   ]
  },
  {
   "cell_type": "code",
   "execution_count": 92,
   "metadata": {},
   "outputs": [
    {
     "name": "stdout",
     "output_type": "stream",
     "text": [
      "95167302\n"
     ]
    }
   ],
   "source": [
    "min_fuel = math.inf\n",
    "\n",
    "for i in range(peak):\n",
    "    steps = 0\n",
    "    for j in hor_pos:\n",
    "        steps += np.sum(np.arange(1,abs(i - j)+1))\n",
    "    min_fuel = min(steps,min_fuel)\n",
    "print(min_fuel)\n"
   ]
  }
 ],
 "metadata": {
  "interpreter": {
   "hash": "e1fa981093107e5e7682f9a873a43ef246d51140e2359dad358d64b89d32088d"
  },
  "kernelspec": {
   "display_name": "Python 3.9.4 64-bit",
   "language": "python",
   "name": "python3"
  },
  "language_info": {
   "codemirror_mode": {
    "name": "ipython",
    "version": 3
   },
   "file_extension": ".py",
   "mimetype": "text/x-python",
   "name": "python",
   "nbconvert_exporter": "python",
   "pygments_lexer": "ipython3",
   "version": "3.9.4"
  },
  "orig_nbformat": 4
 },
 "nbformat": 4,
 "nbformat_minor": 2
}

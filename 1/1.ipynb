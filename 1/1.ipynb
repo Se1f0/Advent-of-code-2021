{
 "cells": [
  {
   "cell_type": "code",
   "execution_count": 2,
   "metadata": {},
   "outputs": [
    {
     "name": "stdout",
     "output_type": "stream",
     "text": [
      "count = 1482\n"
     ]
    }
   ],
   "source": [
    "input = open('input.txt','r')\n",
    "inputs = []\n",
    "while True:\n",
    "    line = input.readline()\n",
    "    if not line:\n",
    "        break\n",
    "    inputs.append(int(line))\n",
    "count = 0\n",
    "for i in range(1,len(inputs)) :\n",
    "    number = inputs[i-1]\n",
    "    if inputs[i] > number :\n",
    "        count += 1\n",
    "print(\"count = \" + str(count))\n",
    "    \n"
   ]
  },
  {
   "cell_type": "code",
   "execution_count": 3,
   "metadata": {},
   "outputs": [
    {
     "name": "stdout",
     "output_type": "stream",
     "text": [
      "count = 1518\n"
     ]
    }
   ],
   "source": [
    "sums = []\n",
    "for i in range(len(inputs) - 2) :\n",
    "    sums.append(inputs[i] + inputs[i+1] + inputs[i+2])\n",
    "count = 0\n",
    "for i in range(1,len(sums)) :\n",
    "    number = sums[i-1]\n",
    "    if sums[i] > number :\n",
    "        count += 1\n",
    "print(\"count = \" + str(count))"
   ]
  }
 ],
 "metadata": {
  "interpreter": {
   "hash": "e1fa981093107e5e7682f9a873a43ef246d51140e2359dad358d64b89d32088d"
  },
  "kernelspec": {
   "display_name": "Python 3.9.4 64-bit",
   "language": "python",
   "name": "python3"
  },
  "language_info": {
   "codemirror_mode": {
    "name": "ipython",
    "version": 3
   },
   "file_extension": ".py",
   "mimetype": "text/x-python",
   "name": "python",
   "nbconvert_exporter": "python",
   "pygments_lexer": "ipython3",
   "version": "3.9.4"
  },
  "orig_nbformat": 4
 },
 "nbformat": 4,
 "nbformat_minor": 2
}

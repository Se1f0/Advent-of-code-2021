{
 "cells": [
  {
   "cell_type": "code",
   "execution_count": 21,
   "metadata": {},
   "outputs": [],
   "source": [
    "import numpy as np"
   ]
  },
  {
   "cell_type": "code",
   "execution_count": 23,
   "metadata": {},
   "outputs": [
    {
     "name": "stdout",
     "output_type": "stream",
     "text": [
      "2003\n",
      "980\n",
      "1962940\n"
     ]
    }
   ],
   "source": [
    "input = open('input.txt','r')\n",
    "directions = []\n",
    "valeus = []\n",
    "while True:\n",
    "    line = input.readline()\n",
    "    if not line:\n",
    "        break\n",
    "    directions.append(line.split(' ')[0])\n",
    "    valeus.append(int(line.split(' ')[1].rstrip()))\n",
    "# print(directions)\n",
    "# print(valeus)\n",
    "\n",
    "horiz = 0\n",
    "depth = 0\n",
    "for (i,j) in zip(directions,valeus) :\n",
    "    if i == \"forward\" :\n",
    "        horiz += j\n",
    "    elif i == \"down\" :\n",
    "        depth += j\n",
    "    else :\n",
    "        depth -= j\n",
    "print(horiz)\n",
    "print(depth)\n",
    "result = horiz * depth\n",
    "print(result)\n",
    "\n",
    "    \n"
   ]
  },
  {
   "cell_type": "code",
   "execution_count": 24,
   "metadata": {},
   "outputs": [
    {
     "name": "stdout",
     "output_type": "stream",
     "text": [
      "['forward', 'down', 'down', 'forward', 'forward', 'down', 'forward', 'forward', 'up', 'down', 'forward', 'down', 'forward', 'forward', 'down', 'down', 'forward', 'down', 'forward', 'forward', 'down', 'up', 'down', 'down', 'down', 'forward', 'forward', 'forward', 'forward', 'forward', 'down', 'down', 'up', 'down', 'forward', 'up', 'forward', 'forward', 'down', 'up', 'up', 'up', 'up', 'forward', 'forward', 'forward', 'down', 'forward', 'down', 'up', 'up', 'up', 'forward', 'forward', 'up', 'forward', 'down', 'down', 'forward', 'forward', 'forward', 'forward', 'up', 'up', 'down', 'down', 'down', 'forward', 'up', 'up', 'down', 'up', 'forward', 'forward', 'forward', 'forward', 'up', 'forward', 'forward', 'up', 'down', 'forward', 'down', 'down', 'forward', 'up', 'up', 'forward', 'down', 'down', 'forward', 'forward', 'down', 'down', 'forward', 'forward', 'down', 'down', 'down', 'forward', 'down', 'down', 'forward', 'up', 'down', 'up', 'up', 'down', 'up', 'forward', 'down', 'down', 'up', 'down', 'down', 'forward', 'down', 'down', 'forward', 'up', 'forward', 'forward', 'forward', 'forward', 'down', 'forward', 'down', 'forward', 'down', 'forward', 'down', 'up', 'forward', 'down', 'forward', 'down', 'down', 'forward', 'up', 'up', 'up', 'down', 'forward', 'forward', 'up', 'up', 'up', 'down', 'down', 'up', 'down', 'down', 'forward', 'down', 'forward', 'down', 'down', 'down', 'forward', 'down', 'up', 'down', 'up', 'up', 'up', 'forward', 'down', 'down', 'up', 'forward', 'forward', 'down', 'down', 'up', 'down', 'forward', 'up', 'up', 'up', 'down', 'forward', 'down', 'down', 'up', 'down', 'down', 'forward', 'down', 'up', 'forward', 'up', 'up', 'down', 'down', 'up', 'down', 'down', 'forward', 'down', 'forward', 'down', 'forward', 'down', 'forward', 'down', 'down', 'forward', 'forward', 'down', 'down', 'up', 'forward', 'forward', 'up', 'down', 'forward', 'down', 'up', 'down', 'forward', 'forward', 'forward', 'forward', 'down', 'down', 'forward', 'up', 'forward', 'down', 'down', 'down', 'forward', 'forward', 'down', 'down', 'forward', 'down', 'up', 'down', 'forward', 'up', 'forward', 'forward', 'up', 'down', 'forward', 'down', 'forward', 'forward', 'up', 'up', 'down', 'up', 'forward', 'forward', 'forward', 'up', 'down', 'up', 'up', 'up', 'down', 'down', 'forward', 'down', 'down', 'down', 'forward', 'down', 'down', 'forward', 'forward', 'forward', 'forward', 'up', 'down', 'down', 'up', 'up', 'forward', 'up', 'forward', 'down', 'forward', 'forward', 'up', 'down', 'forward', 'up', 'up', 'down', 'down', 'forward', 'down', 'forward', 'forward', 'up', 'down', 'forward', 'forward', 'up', 'down', 'down', 'down', 'down', 'down', 'forward', 'up', 'down', 'down', 'down', 'down', 'down', 'down', 'up', 'down', 'up', 'forward', 'down', 'up', 'down', 'down', 'forward', 'up', 'down', 'down', 'up', 'down', 'forward', 'up', 'down', 'forward', 'up', 'forward', 'down', 'forward', 'down', 'down', 'down', 'up', 'down', 'down', 'forward', 'forward', 'down', 'forward', 'down', 'up', 'forward', 'up', 'forward', 'down', 'forward', 'forward', 'forward', 'forward', 'up', 'forward', 'up', 'down', 'forward', 'down', 'up', 'down', 'forward', 'forward', 'forward', 'forward', 'down', 'up', 'down', 'down', 'forward', 'down', 'down', 'forward', 'up', 'up', 'forward', 'forward', 'down', 'down', 'forward', 'forward', 'forward', 'down', 'forward', 'forward', 'forward', 'forward', 'down', 'forward', 'down', 'down', 'forward', 'forward', 'up', 'forward', 'up', 'forward', 'down', 'down', 'up', 'down', 'up', 'down', 'forward', 'forward', 'forward', 'forward', 'forward', 'down', 'up', 'forward', 'up', 'forward', 'down', 'forward', 'forward', 'forward', 'down', 'down', 'forward', 'forward', 'up', 'down', 'down', 'up', 'up', 'forward', 'down', 'forward', 'up', 'up', 'forward', 'up', 'up', 'down', 'up', 'forward', 'down', 'forward', 'forward', 'forward', 'up', 'down', 'down', 'forward', 'down', 'down', 'forward', 'down', 'forward', 'down', 'forward', 'forward', 'forward', 'down', 'down', 'down', 'down', 'up', 'down', 'forward', 'forward', 'forward', 'up', 'up', 'forward', 'forward', 'forward', 'down', 'forward', 'down', 'up', 'forward', 'down', 'forward', 'down', 'down', 'up', 'forward', 'up', 'down', 'up', 'down', 'down', 'forward', 'down', 'forward', 'forward', 'down', 'forward', 'forward', 'forward', 'forward', 'forward', 'down', 'forward', 'down', 'down', 'forward', 'down', 'forward', 'down', 'down', 'forward', 'down', 'down', 'forward', 'down', 'forward', 'forward', 'forward', 'forward', 'forward', 'forward', 'up', 'down', 'down', 'forward', 'forward', 'up', 'forward', 'forward', 'down', 'up', 'down', 'forward', 'forward', 'down', 'up', 'down', 'forward', 'forward', 'up', 'forward', 'down', 'forward', 'forward', 'down', 'down', 'forward', 'forward', 'down', 'down', 'up', 'forward', 'down', 'up', 'forward', 'down', 'down', 'up', 'forward', 'forward', 'forward', 'up', 'up', 'forward', 'down', 'down', 'down', 'forward', 'up', 'forward', 'down', 'forward', 'forward', 'forward', 'forward', 'down', 'forward', 'forward', 'down', 'forward', 'forward', 'up', 'forward', 'up', 'forward', 'up', 'forward', 'down', 'down', 'down', 'up', 'forward', 'down', 'forward', 'forward', 'forward', 'down', 'down', 'forward', 'down', 'up', 'forward', 'forward', 'forward', 'forward', 'down', 'forward', 'down', 'up', 'forward', 'forward', 'forward', 'down', 'forward', 'down', 'forward', 'up', 'up', 'forward', 'up', 'up', 'forward', 'forward', 'down', 'forward', 'down', 'forward', 'down', 'down', 'forward', 'up', 'down', 'forward', 'up', 'down', 'down', 'forward', 'forward', 'down', 'down', 'forward', 'down', 'forward', 'down', 'down', 'down', 'down', 'forward', 'down', 'down', 'down', 'forward', 'forward', 'down', 'up', 'up', 'down', 'forward', 'forward', 'down', 'up', 'forward', 'up', 'down', 'down', 'forward', 'up', 'forward', 'forward', 'forward', 'up', 'down', 'forward', 'down', 'down', 'down', 'forward', 'down', 'forward', 'forward', 'down', 'forward', 'down', 'up', 'down', 'down', 'forward', 'forward', 'forward', 'up', 'down', 'forward', 'down', 'up', 'up', 'up', 'down', 'down', 'forward', 'forward', 'up', 'down', 'up', 'down', 'up', 'up', 'forward', 'down', 'down', 'forward', 'forward', 'up', 'forward', 'down', 'forward', 'up', 'forward', 'forward', 'up', 'up', 'forward', 'down', 'forward', 'forward', 'forward', 'down', 'forward', 'forward', 'forward', 'down', 'forward', 'forward', 'down', 'forward', 'up', 'up', 'up', 'down', 'down', 'forward', 'down', 'forward', 'down', 'forward', 'forward', 'forward', 'forward', 'forward', 'down', 'forward', 'forward', 'down', 'up', 'down', 'down', 'down', 'up', 'forward', 'down', 'down', 'forward', 'down', 'down', 'forward', 'up', 'forward', 'forward', 'forward', 'up', 'up', 'up', 'down', 'up', 'forward', 'up', 'forward', 'down', 'forward', 'down', 'up', 'up', 'up', 'forward', 'down', 'down', 'forward', 'down', 'down', 'down', 'down', 'forward', 'up', 'forward', 'forward', 'up', 'forward', 'forward', 'up', 'forward', 'down', 'forward', 'down', 'down', 'forward', 'down', 'down', 'down', 'down', 'forward', 'up', 'forward', 'down', 'down', 'down', 'up', 'up', 'forward', 'down', 'forward', 'down', 'down', 'up', 'forward', 'forward', 'forward', 'down', 'forward', 'forward', 'down', 'forward', 'down', 'forward', 'down', 'down', 'up', 'forward', 'up', 'down', 'forward', 'down', 'down', 'down', 'forward', 'forward', 'down', 'down', 'down', 'down', 'forward', 'down', 'down', 'down', 'forward', 'forward', 'down', 'up', 'forward', 'forward', 'forward', 'forward', 'down', 'up', 'forward', 'up', 'forward', 'down', 'up', 'down', 'forward', 'forward', 'down', 'forward', 'forward', 'down', 'forward', 'forward', 'down', 'down', 'forward', 'down', 'down', 'forward', 'down', 'down', 'forward', 'down', 'down', 'down', 'down', 'up', 'up', 'down', 'up', 'down', 'forward', 'forward', 'forward', 'forward', 'down', 'forward', 'forward', 'down', 'forward', 'down', 'forward', 'forward', 'forward', 'forward', 'forward', 'forward', 'up', 'down', 'forward', 'forward', 'down', 'down', 'up', 'down', 'forward', 'down', 'down', 'down', 'up', 'forward', 'down', 'down', 'forward', 'down', 'down', 'up', 'down', 'forward', 'down', 'up', 'forward', 'down', 'down', 'down', 'down', 'down', 'down', 'forward', 'forward', 'down', 'forward', 'up', 'down', 'forward', 'up', 'down', 'forward', 'down', 'down', 'down', 'down', 'up', 'down', 'forward', 'forward', 'forward', 'down', 'down', 'forward', 'forward', 'down', 'up', 'forward', 'forward', 'up', 'forward', 'down', 'forward', 'down', 'down', 'down', 'forward', 'up', 'forward', 'down', 'forward', 'down', 'forward', 'down', 'up', 'up', 'down', 'forward', 'up', 'down', 'down', 'down', 'up', 'down', 'forward', 'forward', 'down', 'up', 'down', 'forward', 'down', 'down', 'down', 'up', 'forward']\n",
      "[4, 8, 1, 6, 7, 7, 3, 5, 9, 1, 5, 8, 4, 5, 5, 1, 1, 3, 5, 5, 1, 2, 2, 5, 5, 3, 7, 5, 9, 8, 4, 6, 5, 1, 6, 3, 7, 4, 7, 5, 5, 1, 5, 5, 2, 7, 7, 9, 9, 8, 8, 2, 5, 8, 5, 1, 1, 6, 1, 2, 4, 6, 4, 5, 4, 9, 4, 4, 8, 2, 2, 9, 9, 4, 1, 6, 3, 6, 2, 3, 3, 6, 9, 7, 3, 7, 8, 3, 1, 8, 7, 3, 2, 5, 5, 1, 1, 3, 5, 1, 1, 7, 1, 2, 5, 3, 2, 7, 4, 2, 3, 1, 7, 6, 1, 7, 5, 2, 7, 9, 6, 6, 2, 6, 2, 4, 5, 4, 8, 3, 9, 5, 6, 5, 5, 4, 1, 3, 9, 5, 9, 3, 7, 7, 5, 6, 3, 9, 4, 8, 9, 6, 5, 6, 7, 4, 9, 9, 6, 4, 2, 8, 3, 7, 1, 9, 4, 8, 2, 7, 5, 9, 9, 5, 4, 8, 3, 4, 8, 7, 6, 8, 1, 1, 7, 7, 3, 9, 2, 2, 1, 1, 2, 8, 5, 3, 3, 2, 4, 2, 2, 3, 6, 8, 5, 6, 9, 2, 6, 4, 9, 2, 1, 9, 9, 8, 4, 3, 1, 9, 9, 3, 4, 2, 1, 5, 3, 6, 8, 8, 7, 1, 6, 9, 6, 8, 5, 6, 2, 2, 3, 6, 4, 4, 5, 2, 5, 1, 5, 7, 1, 3, 8, 4, 8, 8, 2, 8, 2, 2, 7, 9, 1, 1, 3, 1, 4, 3, 4, 5, 7, 6, 7, 8, 6, 1, 9, 2, 2, 1, 9, 6, 2, 6, 8, 8, 6, 2, 4, 5, 3, 2, 7, 8, 4, 8, 4, 7, 6, 1, 4, 4, 9, 7, 6, 1, 7, 3, 1, 9, 9, 1, 7, 8, 9, 7, 4, 4, 2, 8, 6, 6, 4, 5, 9, 8, 7, 4, 9, 3, 6, 7, 4, 9, 6, 6, 3, 5, 4, 5, 8, 8, 5, 1, 3, 7, 3, 6, 5, 7, 8, 1, 7, 8, 9, 7, 5, 9, 7, 7, 8, 8, 6, 4, 6, 3, 3, 6, 3, 4, 3, 8, 2, 1, 5, 2, 3, 5, 2, 8, 7, 9, 8, 5, 2, 3, 6, 3, 4, 9, 8, 2, 6, 8, 1, 5, 3, 8, 3, 2, 3, 5, 4, 9, 5, 2, 7, 8, 2, 4, 6, 1, 3, 3, 6, 1, 9, 4, 5, 3, 7, 9, 1, 5, 1, 6, 7, 4, 7, 2, 7, 5, 9, 8, 8, 1, 6, 7, 8, 2, 1, 7, 6, 2, 7, 5, 6, 8, 3, 2, 5, 7, 2, 9, 7, 9, 1, 7, 3, 8, 4, 1, 2, 5, 9, 5, 6, 1, 3, 1, 7, 9, 4, 7, 6, 1, 7, 5, 4, 2, 1, 6, 6, 3, 5, 8, 5, 2, 1, 8, 4, 3, 3, 6, 2, 9, 2, 3, 8, 4, 1, 4, 1, 5, 5, 6, 6, 6, 9, 7, 6, 6, 7, 1, 4, 2, 3, 8, 3, 7, 6, 4, 7, 6, 6, 7, 8, 5, 6, 8, 3, 2, 5, 2, 5, 8, 1, 3, 3, 2, 3, 8, 3, 1, 5, 1, 1, 9, 7, 2, 8, 6, 5, 9, 2, 5, 8, 2, 5, 2, 2, 9, 3, 7, 5, 7, 6, 2, 7, 8, 8, 7, 3, 6, 5, 8, 6, 2, 1, 9, 1, 3, 6, 4, 5, 8, 6, 1, 8, 3, 2, 9, 5, 9, 5, 7, 9, 5, 7, 6, 5, 3, 6, 9, 8, 4, 7, 3, 7, 8, 5, 3, 6, 5, 9, 4, 9, 9, 3, 8, 8, 3, 2, 4, 1, 2, 9, 7, 4, 3, 9, 6, 2, 5, 7, 2, 8, 5, 8, 8, 4, 1, 2, 5, 8, 1, 2, 8, 3, 8, 8, 8, 3, 3, 6, 9, 1, 6, 1, 1, 9, 3, 1, 7, 6, 1, 3, 8, 7, 3, 5, 7, 6, 9, 9, 8, 9, 1, 2, 7, 3, 1, 8, 4, 9, 9, 4, 1, 1, 1, 1, 6, 7, 5, 1, 7, 3, 7, 3, 4, 9, 9, 1, 4, 6, 2, 6, 1, 1, 8, 7, 6, 6, 3, 1, 6, 1, 2, 8, 4, 2, 3, 2, 3, 1, 6, 7, 7, 4, 6, 3, 4, 6, 7, 8, 3, 2, 5, 4, 6, 7, 8, 9, 3, 1, 8, 1, 8, 1, 3, 6, 1, 1, 1, 6, 5, 6, 1, 5, 7, 3, 4, 4, 1, 6, 2, 4, 4, 4, 8, 8, 1, 5, 5, 7, 5, 7, 5, 9, 1, 1, 4, 2, 2, 3, 1, 1, 7, 6, 9, 5, 1, 9, 2, 5, 4, 6, 9, 3, 1, 2, 3, 1, 3, 8, 6, 2, 5, 9, 4, 2, 9, 2, 7, 9, 5, 5, 6, 1, 5, 9, 4, 2, 7, 2, 4, 2, 3, 3, 2, 5, 8, 8, 9, 9, 9, 4, 1, 4, 9, 5, 9, 4, 5, 1, 3, 3, 4, 6, 5, 3, 4, 9, 5, 3, 6, 8, 9, 2, 6, 2, 9, 9, 4, 1, 9, 5, 9, 4, 6, 7, 4, 7, 1, 9, 6, 5, 5, 5, 1, 3, 7, 5, 9, 5, 6, 5, 5, 1, 9, 5, 9, 3, 4, 7, 3, 3, 5, 7, 9, 8, 4, 8, 9, 1, 6, 9, 3, 1, 4, 2, 8, 4, 4, 1, 5, 3, 9, 1, 8, 6, 4, 3, 8, 2, 6, 5, 8, 4, 1, 5, 1, 9, 1, 9, 3, 3, 2, 6, 8, 1, 4, 3, 9, 2, 4, 9, 3, 1, 3, 4, 6, 2, 3, 9, 7, 2, 5, 4, 5, 9, 3, 5, 9, 2, 3, 4, 2, 5, 8, 1, 4, 4, 7, 9, 8, 8, 3, 6, 9, 6, 2, 6, 1, 5, 5, 9, 2, 2, 1, 8, 2, 8, 3, 2, 1, 5, 5, 4, 5]\n",
      "2003\n",
      "905474\n",
      "1813664422\n"
     ]
    }
   ],
   "source": [
    "print(directions)\n",
    "print(valeus)\n",
    "horiz = 0\n",
    "depth = 0\n",
    "aim = 0\n",
    "for (i,j) in zip(directions,valeus) :\n",
    "    if i == \"forward\" :\n",
    "        horiz += j\n",
    "        depth += aim*j\n",
    "    elif i == \"down\" :\n",
    "        aim += j\n",
    "    else :\n",
    "        aim -= j\n",
    "print(horiz)\n",
    "print(depth)\n",
    "result = horiz * depth\n",
    "print(result)"
   ]
  }
 ],
 "metadata": {
  "interpreter": {
   "hash": "e1fa981093107e5e7682f9a873a43ef246d51140e2359dad358d64b89d32088d"
  },
  "kernelspec": {
   "display_name": "Python 3.9.4 64-bit",
   "language": "python",
   "name": "python3"
  },
  "language_info": {
   "codemirror_mode": {
    "name": "ipython",
    "version": 3
   },
   "file_extension": ".py",
   "mimetype": "text/x-python",
   "name": "python",
   "nbconvert_exporter": "python",
   "pygments_lexer": "ipython3",
   "version": "3.9.4"
  },
  "orig_nbformat": 4
 },
 "nbformat": 4,
 "nbformat_minor": 2
}

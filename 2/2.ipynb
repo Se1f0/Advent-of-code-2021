{
 "cells": [
  {
   "cell_type": "code",
   "execution_count": 2,
   "metadata": {},
   "outputs": [
    {
     "name": "stdout",
     "output_type": "stream",
     "text": [
      "final horizontal position = 2003\n",
      "final depth position = 980\n",
      "Result = 1962940\n"
     ]
    }
   ],
   "source": [
    "input = open('input.txt','r')\n",
    "directions = []\n",
    "valeus = []\n",
    "while True:\n",
    "    line = input.readline()\n",
    "    if not line:\n",
    "        break\n",
    "    directions.append(line.split(' ')[0])\n",
    "    valeus.append(int(line.split(' ')[1].rstrip()))\n",
    "\n",
    "horiz = 0\n",
    "depth = 0\n",
    "for (i,j) in zip(directions,valeus) :\n",
    "    if i == \"forward\" :\n",
    "        horiz += j\n",
    "    elif i == \"down\" :\n",
    "        depth += j\n",
    "    else :\n",
    "        depth -= j\n",
    "print(\"final horizontal position = \" +  str(horiz))\n",
    "print(\"final depth position = \" + str(depth))\n",
    "result = horiz * depth\n",
    "print(\"Result = \" + str(result))\n",
    "\n",
    "    \n"
   ]
  },
  {
   "cell_type": "code",
   "execution_count": 4,
   "metadata": {},
   "outputs": [
    {
     "name": "stdout",
     "output_type": "stream",
     "text": [
      "final horizontal position = 2003\n",
      "final depth position = 905474\n",
      "Result = 1813664422\n"
     ]
    }
   ],
   "source": [
    "horiz = 0\n",
    "depth = 0\n",
    "aim = 0\n",
    "for (i,j) in zip(directions,valeus) :\n",
    "    if i == \"forward\" :\n",
    "        horiz += j\n",
    "        depth += aim*j\n",
    "    elif i == \"down\" :\n",
    "        aim += j\n",
    "    else :\n",
    "        aim -= j\n",
    "print(\"final horizontal position = \" +  str(horiz))\n",
    "print(\"final depth position = \" + str(depth))\n",
    "result = horiz * depth\n",
    "print(\"Result = \" + str(result))"
   ]
  }
 ],
 "metadata": {
  "interpreter": {
   "hash": "e1fa981093107e5e7682f9a873a43ef246d51140e2359dad358d64b89d32088d"
  },
  "kernelspec": {
   "display_name": "Python 3.9.4 64-bit",
   "language": "python",
   "name": "python3"
  },
  "language_info": {
   "codemirror_mode": {
    "name": "ipython",
    "version": 3
   },
   "file_extension": ".py",
   "mimetype": "text/x-python",
   "name": "python",
   "nbconvert_exporter": "python",
   "pygments_lexer": "ipython3",
   "version": "3.9.4"
  },
  "orig_nbformat": 4
 },
 "nbformat": 4,
 "nbformat_minor": 2
}

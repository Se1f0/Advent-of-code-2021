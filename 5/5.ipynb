{
 "cells": [
  {
   "cell_type": "code",
   "execution_count": null,
   "metadata": {},
   "outputs": [],
   "source": [
    "import numpy as np"
   ]
  },
  {
   "cell_type": "code",
   "execution_count": null,
   "metadata": {},
   "outputs": [],
   "source": [
    "input = open('input.txt','r')\n",
    "x1y1 = []\n",
    "x2y2 = []\n",
    "xs = []\n",
    "ys = []\n",
    "while True:\n",
    "    line = input.readline()\n",
    "    if not line:\n",
    "        break\n",
    "    (x,y) = (int(line.split(' ')[0].split(',')[0]),int(line.split(' ')[0].split(',')[1]))\n",
    "    x1y1.append((x,y))\n",
    "    xs.append(x)\n",
    "    ys.append(y)\n",
    "    (x,y) = (int(line.split(' ')[2].rstrip().split(',')[0]),int(line.split(' ')[2].rstrip().split(',')[1]))\n",
    "    x2y2.append((x,y))\n",
    "    xs.append(x)\n",
    "    ys.append(y)\n",
    "\n",
    "maxX = max(xs)\n",
    "maxY = max(ys)\n",
    "diagram = np.zeros((maxX+1,maxY+1))\n",
    "draw1 = [(x1,y1) for (x1,y1),(x2,y2) in zip(x1y1,x2y2) if (x1 == x2) or (y1 == y2)]\n",
    "draw2 = [(x2,y2) for (x1,y1),(x2,y2) in zip(x1y1,x2y2) if (x1 == x2) or (y1 == y2)]\n",
    "\n",
    "for (x1,y1),(x2,y2) in zip(draw1,draw2):\n",
    "    if x1 == x2:\n",
    "        bottom = min(y1,y2)\n",
    "        top = max(y1,y2)\n",
    "        for i in range(bottom,top+1):\n",
    "            diagram[x1][i] += 1\n",
    "    elif y1 == y2:\n",
    "        left = min(x1,x2)\n",
    "        right = max(x1,x2)\n",
    "        for k in range(left,right+1):\n",
    "            diagram[k][y1] +=1\n",
    "count = 0\n",
    "for p in diagram.ravel():\n",
    "    if p >= 2 :\n",
    "        count += 1\n",
    "print(count)"
   ]
  },
  {
   "cell_type": "code",
   "execution_count": null,
   "metadata": {},
   "outputs": [],
   "source": [
    "diago1 = [(x1,y1) for (x1,y1),(x2,y2) in zip(x1y1,x2y2) if (x1 != x2) and (y1 != y2)]\n",
    "diago2 = [(x2,y2) for (x1,y1),(x2,y2) in zip(x1y1,x2y2) if (x1 != x2) and (y1 != y2)]\n",
    "\n",
    "for (x1,y1),(x2,y2) in zip(diago1,diago2):\n",
    "    start = min(x1,x2)\n",
    "    end = max(x1,x2)\n",
    "    (a,b) = (x1,y1) if start == x1 else (x2,y2)\n",
    "    (c,d) = (x1,y1) if end == x1 else (x2,y2)\n",
    "    while (a,b) != (c,d):\n",
    "        diagram[a][b] += 1\n",
    "        (a,b) = (a+1,b+1) if b < d else (a+1,b-1)\n",
    "    diagram[a][b] += 1\n",
    "\n",
    "count = 0\n",
    "for p in diagram.ravel():\n",
    "    if p >= 2 :\n",
    "        count += 1\n",
    "print(count)"
   ]
  }
 ],
 "metadata": {
  "interpreter": {
   "hash": "e1fa981093107e5e7682f9a873a43ef246d51140e2359dad358d64b89d32088d"
  },
  "kernelspec": {
   "display_name": "Python 3.9.4 64-bit",
   "language": "python",
   "name": "python3"
  },
  "language_info": {
   "codemirror_mode": {
    "name": "ipython",
    "version": 3
   },
   "file_extension": ".py",
   "mimetype": "text/x-python",
   "name": "python",
   "nbconvert_exporter": "python",
   "pygments_lexer": "ipython3",
   "version": "3.9.4"
  },
  "orig_nbformat": 4
 },
 "nbformat": 4,
 "nbformat_minor": 2
}

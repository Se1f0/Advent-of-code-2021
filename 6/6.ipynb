{
 "cells": [
  {
   "cell_type": "code",
   "execution_count": null,
   "metadata": {},
   "outputs": [],
   "source": [
    "input = open('input.txt','r')\n",
    "init_state = input.readline().split(',')\n",
    "init_state = [int(i) for i in init_state]\n",
    "days = 80\n",
    "report = {key : [] for key in range(days+1)}\n",
    "report[0].extend(init_state)\n",
    "\n",
    "for d in range(1,days+1):\n",
    "    day_report = [x-1 for x in report[d-1].copy()]\n",
    "    if -1 in day_report:\n",
    "        new_lant = day_report.count(-1)\n",
    "        day_report = [6 if x==-1 else x for x in day_report]\n",
    "        for i in range(new_lant):\n",
    "            day_report.append(8)\n",
    "    report[d].extend(day_report)\n",
    "print(len(report[d]))"
   ]
  },
  {
   "cell_type": "code",
   "execution_count": null,
   "metadata": {},
   "outputs": [],
   "source": [
    "init_f= {key:init_state.count(key) for key in init_state}\n",
    "days = 256\n",
    "for d in range(days):\n",
    "    temp = {key:0 for key in range(9)}\n",
    "    for k in init_f.keys():\n",
    "        if k == 0:\n",
    "            temp[6] += init_f[k]\n",
    "            temp[8] = init_f[k]\n",
    "        else:\n",
    "            temp[k-1] += init_f[k]\n",
    "    init_f = temp\n",
    "lantern_count = sum(list(init_f.values()))\n",
    "print(lantern_count)"
   ]
  }
 ],
 "metadata": {
  "interpreter": {
   "hash": "e1fa981093107e5e7682f9a873a43ef246d51140e2359dad358d64b89d32088d"
  },
  "kernelspec": {
   "display_name": "Python 3.9.4 64-bit",
   "language": "python",
   "name": "python3"
  },
  "language_info": {
   "codemirror_mode": {
    "name": "ipython",
    "version": 3
   },
   "file_extension": ".py",
   "mimetype": "text/x-python",
   "name": "python",
   "nbconvert_exporter": "python",
   "pygments_lexer": "ipython3",
   "version": "3.9.4"
  },
  "orig_nbformat": 4
 },
 "nbformat": 4,
 "nbformat_minor": 2
}

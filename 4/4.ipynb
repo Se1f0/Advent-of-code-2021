{
 "cells": [
  {
   "cell_type": "code",
   "execution_count": 127,
   "metadata": {},
   "outputs": [],
   "source": [
    "import numpy as np"
   ]
  },
  {
   "cell_type": "code",
   "execution_count": 128,
   "metadata": {},
   "outputs": [
    {
     "name": "stdout",
     "output_type": "stream",
     "text": [
      "[[[22 13 17 11  0]\n",
      "  [ 8  2 23  4 24]\n",
      "  [21  9 14 16  7]\n",
      "  [ 6 10  3 18  5]\n",
      "  [ 1 12 20 15 19]]\n",
      "\n",
      " [[ 3 15  0  2 22]\n",
      "  [ 9 18 13 17  5]\n",
      "  [19  8  7 25 23]\n",
      "  [20 11 10 24  4]\n",
      "  [14 21 16 12  6]]\n",
      "\n",
      " [[14 21 17 24  4]\n",
      "  [10 16 15  9 19]\n",
      "  [18  8 23 26 20]\n",
      "  [22 11 13  6  5]\n",
      "  [ 2  0 12  3  7]]]\n",
      "[[[-1. -1. -1. -1. -1.]\n",
      "  [-1. -1. -1. -1. -1.]\n",
      "  [-1. -1. -1. -1. -1.]\n",
      "  [-1. -1. -1. -1. -1.]\n",
      "  [-1. -1. -1. -1. -1.]]\n",
      "\n",
      " [[-1. -1. -1. -1. -1.]\n",
      "  [-1. -1. -1. -1. -1.]\n",
      "  [-1. -1. -1. -1. -1.]\n",
      "  [-1. -1. -1. -1. -1.]\n",
      "  [-1. -1. -1. -1. -1.]]\n",
      "\n",
      " [[-1. -1. -1. -1. -1.]\n",
      "  [-1. -1. -1. -1. -1.]\n",
      "  [-1. -1. -1. -1. -1.]\n",
      "  [-1. -1. -1. -1. -1.]\n",
      "  [-1. -1. -1. -1. -1.]]]\n"
     ]
    }
   ],
   "source": [
    "numbers_file = open('numbers.txt','r')\n",
    "numbers = numbers_file.readline().split(',')\n",
    "numbers = [int(i) for i in numbers]\n",
    "\n",
    "grids_file = open('input.txt','r')\n",
    "tables = []\n",
    "table = []\n",
    "count = 1\n",
    "while True:\n",
    "    line = grids_file.readline()\n",
    "    if not line:\n",
    "        break\n",
    "    k = line.rstrip().split(' ')\n",
    "    if len(k) == 1:\n",
    "        continue\n",
    "    temp = []\n",
    "    for i in k:\n",
    "        if i.isdigit() :\n",
    "            temp.append(int(i))\n",
    "    table.append(temp)\n",
    "    count += 1\n",
    "    if count > 5 :\n",
    "        a = table.copy()\n",
    "        tables.append(a)\n",
    "        count = 1\n",
    "        table.clear()\n",
    "tables = np.array(tables)\n",
    "print(tables)\n",
    "lines = np.negative(np.ones((3,5,5)))\n",
    "print(lines)\n"
   ]
  }
 ],
 "metadata": {
  "interpreter": {
   "hash": "e1fa981093107e5e7682f9a873a43ef246d51140e2359dad358d64b89d32088d"
  },
  "kernelspec": {
   "display_name": "Python 3.9.4 64-bit",
   "language": "python",
   "name": "python3"
  },
  "language_info": {
   "name": "python",
   "version": "3.9.4"
  },
  "orig_nbformat": 4
 },
 "nbformat": 4,
 "nbformat_minor": 2
}
